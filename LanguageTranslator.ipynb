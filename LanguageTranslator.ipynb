{
 "cells": [
  {
   "cell_type": "markdown",
   "metadata": {},
   "source": [
    "# Loading The Dependencies"
   ]
  },
  {
   "cell_type": "code",
   "execution_count": 3,
   "metadata": {
    "collapsed": true
   },
   "outputs": [],
   "source": [
    "import tensorflow as tf\n",
    "import numpy as np"
   ]
  },
  {
   "cell_type": "markdown",
   "metadata": {},
   "source": [
    "# Loading Data File"
   ]
  },
  {
   "cell_type": "code",
   "execution_count": 4,
   "metadata": {},
   "outputs": [],
   "source": [
    "import helper\n",
    "\n",
    "source_path='data/small_vocab_en'\n",
    "target_path='data/small_vocab_fr'\n",
    "\n",
    "source_text=helper.load_data(source_path)\n",
    "target_text=helper.load_data(target_path)"
   ]
  },
  {
   "cell_type": "markdown",
   "metadata": {},
   "source": [
    "## Exploring Data"
   ]
  },
  {
   "cell_type": "code",
   "execution_count": 5,
   "metadata": {},
   "outputs": [
    {
     "name": "stdout",
     "output_type": "stream",
     "text": [
      "Data Set Information\n",
      "The Number of Unique Words: 227\n",
      "The Number of Sentences are: 137861 \n"
     ]
    }
   ],
   "source": [
    "print (\"Data Set Information\")\n",
    "print (\"The Number of Unique Words: %s\"%(len({word: None for word in source_text.split()})))\n",
    "\n",
    "sentence_arr=[]\n",
    "sentences=source_text.split('\\n')\n",
    "for sentence in sentences:\n",
    "    sentence_arr.append(sentences)\n",
    "print (\"The Number of Sentences are: %r \"%(len(sentence_arr)))\n",
    "\n",
    "\n",
    "#print (\"The Number of Sentences are: %s\"%(len(sentence.split()) for sentence in sentences))\n",
    "\n",
    "#print (word_count)\n",
    "#print 'The Number of Unique Words %r'(len(word: None for word  )"
   ]
  },
  {
   "cell_type": "markdown",
   "metadata": {
    "collapsed": true
   },
   "source": [
    "## Implementing Pre-Processing"
   ]
  },
  {
   "cell_type": "code",
   "execution_count": 6,
   "metadata": {
    "collapsed": true
   },
   "outputs": [],
   "source": [
    "def text_to_ids(source_text,target_text,source_vocab_to_int,target_vocab_to_int):\n",
    "    source_text_id=[]\n",
    "    target_text_id=[]\n",
    "    \n",
    "    id_eos=target_vocab_to_int['<EOS>']\n",
    "    \n",
    "    for source_sentence in source_text.split('\\n'):\n",
    "        a=[source_vocab_to_int[word] for word in source_sentence.split()]\n",
    "        source_text_id.append(a)\n",
    "        \n",
    "    for target_sentence in target_text.split('\\n'):\n",
    "        b=[target_vocab_to_int[word] for word in target_sentence.split()]\n",
    "        b.append(id_eos)\n",
    "        target_text_id.append(b)\n",
    "    \n",
    "    return source_text_id,target_text_id\n",
    "        \n",
    "    "
   ]
  },
  {
   "cell_type": "markdown",
   "metadata": {},
   "source": [
    "### Pre-Processing Data and Saving it\n"
   ]
  },
  {
   "cell_type": "code",
   "execution_count": 8,
   "metadata": {
    "collapsed": true
   },
   "outputs": [],
   "source": [
    "helper.preprocess_and_save_data(source_path, target_path, text_to_ids)"
   ]
  },
  {
   "cell_type": "markdown",
   "metadata": {
    "collapsed": true
   },
   "source": [
    "### CheckPoint\n",
    "If you ever decide to come back to this notebook or have to restart the notebook, you can start from here. The preprocessed data has been saved to disk."
   ]
  },
  {
   "cell_type": "code",
   "execution_count": 9,
   "metadata": {
    "collapsed": true
   },
   "outputs": [],
   "source": [
    "(source_int_text, target_int_text), (source_vocab_to_int, target_vocab_to_int), _ = helper.load_preprocess()"
   ]
  },
  {
   "cell_type": "markdown",
   "metadata": {},
   "source": [
    "## Builiding Neural Network"
   ]
  },
  {
   "cell_type": "markdown",
   "metadata": {},
   "source": [
    "### Input\n"
   ]
  },
  {
   "cell_type": "code",
   "execution_count": 11,
   "metadata": {
    "collapsed": true
   },
   "outputs": [],
   "source": [
    "def model_input():\n",
    "    input_=tf.placeholder(tf.int32,[None,None],name='input')\n",
    "    targets=tf.placeholder(tf.int32,[None,None])\n",
    "    learning_rate=tf.placeholder(tf.float32)\n",
    "    keep_prob=tf.placeholder(tf.float32,name='keep_prob')\n",
    "    \n",
    "    return input_,targets,learning_rate,keep_prob"
   ]
  },
  {
   "cell_type": "markdown",
   "metadata": {},
   "source": [
    "### Processing Decoding Input"
   ]
  },
  {
   "cell_type": "code",
   "execution_count": 13,
   "metadata": {},
   "outputs": [],
   "source": [
    "def process_decoding_input(target_data,target_vocab_to_int,batch_size):\n",
    "    remove_last_word=tf.strided_slice(target_data,[0,0],[batch_size,-1],[1,1])\n",
    "    concat_go=tf.concat([tf.fill([batch_size,1],target_vocab_to_int['<GO>']),remove_last_word],1)\n",
    "    return concat_go"
   ]
  },
  {
   "cell_type": "markdown",
   "metadata": {},
   "source": [
    "### Encoding Layer\n",
    "Implementing Encoder RNN Layer"
   ]
  },
  {
   "cell_type": "code",
   "execution_count": 14,
   "metadata": {
    "collapsed": true
   },
   "outputs": [],
   "source": [
    "def encoding_layer(rnn_input,rnn_size,num_layers,keep_prob):\n",
    "    lstm=tf.contrib.nn.BasicLSTMCell(rnn_size)\n",
    "    cell=tf.contrib.nn.DropoutWrapper(lstm,output_keep=keep_prob)\n",
    "    enc_cell=tf.contrib.nn.MultiRNNCell([cell]*num_layers)\n",
    "    _,enc_state=tf.nn.dynamic_rnn(enc_cell,rnn_inputs,dtype=tf.float32)\n",
    "    return enc_state"
   ]
  },
  {
   "cell_type": "markdown",
   "metadata": {},
   "source": [
    "### Decoder Layer Training"
   ]
  },
  {
   "cell_type": "code",
   "execution_count": 16,
   "metadata": {
    "collapsed": true
   },
   "outputs": [],
   "source": [
    "def decoding_layer_train(encoder_state,dec_cell,dec_embed_input,sequence_length,decoding_scope,output_fn,keep_prob):\n",
    "    \"\"\"\n",
    "    :param encoder_state: Encoder State\n",
    "    :param dec_cell: Decoder RNN Cell\n",
    "    :param dec_embed_input: Decoder embedded input\n",
    "    :param sequence_length: Sequence Length\n",
    "    :param decoding_scope: TenorFlow Variable Scope for decoding\n",
    "    :param output_fn: Function to apply the output layer\n",
    "    :param keep_prob: Dropout keep probability\n",
    "    :return: Train Logits\n",
    "    \"\"\"\n",
    "    decoder_fn=tf.contrib.seq2seq.simple_decoder_fn_train(encoder_state)\n",
    "    outputs,final_state,final_context_state = tf.contrib.seq2seq.dynamic_rnn_decoder(\n",
    "        dec_cell,\n",
    "        decoder_fn,\n",
    "        inputs=dec_embed_input,\n",
    "        sequence_length=sequence_length,\n",
    "        scope=decoding_scope)\n",
    "    \n",
    "    outputs= tf.nn.dropout(outputs,keep_prob=keep_prob)\n",
    "    \n",
    "    return decoder_fn(outputs)"
   ]
  },
  {
   "cell_type": "markdown",
   "metadata": {},
   "source": [
    "### Decoding Inference"
   ]
  },
  {
   "cell_type": "code",
   "execution_count": 19,
   "metadata": {
    "collapsed": true
   },
   "outputs": [],
   "source": [
    "def decoding_layer_infer(encoder_state,dec_cell,dec_embeddings,start_of_sequence_id,end_of_sequence_id,maximum_length,\n",
    "                         vocab_size,decoding_scope,output_fn,keep_prob):\n",
    "\n",
    "    \"\"\"\n",
    "    Create a decoding layer for inference\n",
    "    :param encoder_state: Encoder state\n",
    "    :param dec_cell: Decoder RNN Cell\n",
    "    :param dec_embeddings: Decoder embeddings\n",
    "    :param start_of_sequence_id: GO ID\n",
    "    :param end_of_sequence_id: EOS Id\n",
    "    :param maximum_length: The maximum allowed time steps to decode\n",
    "    :param vocab_size: Size of vocabulary\n",
    "    :param decoding_scope: TensorFlow Variable Scope for decoding\n",
    "    :param output_fn: Function to apply the output layer\n",
    "    :param keep_prob: Dropout keep probability\n",
    "    :return: Inference Logits\n",
    "    \"\"\"\n",
    "    \n",
    "    infer_decoder_fn=tf.contrib.seq2seq.simple_decoder_fn_inference(\n",
    "        output_fn,encoder_state,dec_embeddings,start_of_sequence_id,end_of_sequence_id,maximum_length-1,vocab_size)\n",
    "    inference_logits,_,_=tf.contrib.seq2seq.dynamic_rnn_decoder(dec_cell,infer_decoder_fn,scope=decoding_scope)\n",
    "    \n",
    "    return inference_logits"
   ]
  },
  {
   "cell_type": "markdown",
   "metadata": {},
   "source": [
    "### Decoding Layer"
   ]
  },
  {
   "cell_type": "code",
   "execution_count": 21,
   "metadata": {
    "collapsed": true
   },
   "outputs": [],
   "source": [
    "def decoding_layer(dec_embed_input,dec_embeddings,encoder_state,vocab_size,sequence_length,rnn_size,num_layers,\n",
    "                   target_vocab_to_int,keep_prob):\n",
    "\n",
    "    \"\"\"\n",
    "    :param dec_embed_input: Decoder embedded input\n",
    "    :param dec_embeddings: Decoder embeddings\n",
    "    :param encoder_state: The encoded state\n",
    "    :param vocab_size: Size of vocabulary\n",
    "    :param sequence_length: Sequence Length\n",
    "    :param rnn_size: RNN Size\n",
    "    :param num_layers: Number of layers\n",
    "    :param target_vocab_to_int: Dictionary to go from the target words to an id\n",
    "    :param keep_prob: Dropout keep probability\n",
    "    :return: Tuple of (Training Logits, Inference Logits)\n",
    "    \"\"\"\n",
    "    with tf.variable_scope(\"decoding\") as decoding_scope:\n",
    "        basic_cell=tf.contrib.rnn.BasicLSTMCell(rnn_size)\n",
    "        rnn_cell=tf.contrib.rnn.MultiRNNCell([basic_cell]*num_layers)\n",
    "        \n",
    "        output_fn=lambda x: tf.contrib.layers.fully_connected(\n",
    "            x,\n",
    "            vocab_size,\n",
    "            activation_fn=None,\n",
    "            scope=decoding_scope)\n",
    "        \n",
    "        training_logits=decoding_layer_train(\n",
    "            encoder_state,\n",
    "            rnn_cell,\n",
    "            dec_embed_input,\n",
    "            sequence_length,\n",
    "            decoding_scope,\n",
    "            output_fn,\n",
    "            keep_prob)\n",
    "        \n",
    "        decoding_scope.reuse_variables()\n",
    "        \n",
    "        inference_logits = decoding_layer_infer(\n",
    "            encoder_state,\n",
    "            rnn_cell,\n",
    "            dec_embeddings,\n",
    "            target_vocab_to_int['<GO>'],\n",
    "            target_vocab_to_int['<EOS>'],\n",
    "            sequence_length,\n",
    "            vocab_size,\n",
    "            decoding_scope,\n",
    "            output_fn,\n",
    "            keep_prob)\n",
    "        \n",
    "    return training_logits, inference_logits"
   ]
  },
  {
   "cell_type": "code",
   "execution_count": null,
   "metadata": {
    "collapsed": true
   },
   "outputs": [],
   "source": []
  }
 ],
 "metadata": {
  "kernelspec": {
   "display_name": "Python 3",
   "language": "python",
   "name": "python3"
  },
  "language_info": {
   "codemirror_mode": {
    "name": "ipython",
    "version": 3
   },
   "file_extension": ".py",
   "mimetype": "text/x-python",
   "name": "python",
   "nbconvert_exporter": "python",
   "pygments_lexer": "ipython3",
   "version": "3.5.3"
  }
 },
 "nbformat": 4,
 "nbformat_minor": 2
}
