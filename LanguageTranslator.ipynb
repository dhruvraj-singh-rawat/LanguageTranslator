{
 "cells": [
  {
   "cell_type": "markdown",
   "metadata": {},
   "source": [
    "# Loading The Dependencies"
   ]
  },
  {
   "cell_type": "code",
   "execution_count": 3,
   "metadata": {
    "collapsed": true
   },
   "outputs": [],
   "source": [
    "import tensorflow as tf\n",
    "import numpy as np"
   ]
  },
  {
   "cell_type": "markdown",
   "metadata": {},
   "source": [
    "# Loading Data File"
   ]
  },
  {
   "cell_type": "code",
   "execution_count": 4,
   "metadata": {},
   "outputs": [],
   "source": [
    "import helper\n",
    "\n",
    "source_path='data/small_vocab_en'\n",
    "target_path='data/small_vocab_fr'\n",
    "\n",
    "source_text=helper.load_data(source_path)\n",
    "target_text=helper.load_data(target_path)"
   ]
  },
  {
   "cell_type": "markdown",
   "metadata": {},
   "source": [
    "## Exploring Data"
   ]
  },
  {
   "cell_type": "code",
   "execution_count": 5,
   "metadata": {},
   "outputs": [
    {
     "name": "stdout",
     "output_type": "stream",
     "text": [
      "Data Set Information\n",
      "The Number of Unique Words: 227\n",
      "The Number of Sentences are: 137861 \n"
     ]
    }
   ],
   "source": [
    "print (\"Data Set Information\")\n",
    "print (\"The Number of Unique Words: %s\"%(len({word: None for word in source_text.split()})))\n",
    "\n",
    "sentence_arr=[]\n",
    "sentences=source_text.split('\\n')\n",
    "for sentence in sentences:\n",
    "    sentence_arr.append(sentences)\n",
    "print (\"The Number of Sentences are: %r \"%(len(sentence_arr)))\n",
    "\n",
    "\n",
    "#print (\"The Number of Sentences are: %s\"%(len(sentence.split()) for sentence in sentences))\n",
    "\n",
    "#print (word_count)\n",
    "#print 'The Number of Unique Words %r'(len(word: None for word  )"
   ]
  },
  {
   "cell_type": "markdown",
   "metadata": {
    "collapsed": true
   },
   "source": [
    "## Implementing Pre-Processing"
   ]
  },
  {
   "cell_type": "code",
   "execution_count": 6,
   "metadata": {
    "collapsed": true
   },
   "outputs": [],
   "source": [
    "def text_to_ids(source_text,target_text,source_vocab_to_int,target_vocab_to_int):\n",
    "    source_text_id=[]\n",
    "    target_text_id=[]\n",
    "    \n",
    "    id_eos=target_vocab_to_int['<EOS>']\n",
    "    \n",
    "    for source_sentence in source_text.split('\\n'):\n",
    "        a=[source_vocab_to_int[word] for word in source_sentence.split()]\n",
    "        source_text_id.append(a)\n",
    "        \n",
    "    for target_sentence in target_text.split('\\n'):\n",
    "        b=[target_vocab_to_int[word] for word in target_sentence.split()]\n",
    "        b.append(id_eos)\n",
    "        target_text_id.append(b)\n",
    "    \n",
    "    return source_text_id,target_text_id\n",
    "        \n",
    "    "
   ]
  },
  {
   "cell_type": "markdown",
   "metadata": {},
   "source": [
    "### Pre-Processing Data and Saving it\n"
   ]
  },
  {
   "cell_type": "code",
   "execution_count": 8,
   "metadata": {
    "collapsed": true
   },
   "outputs": [],
   "source": [
    "helper.preprocess_and_save_data(source_path, target_path, text_to_ids)"
   ]
  },
  {
   "cell_type": "markdown",
   "metadata": {
    "collapsed": true
   },
   "source": [
    "### CheckPoint\n",
    "If you ever decide to come back to this notebook or have to restart the notebook, you can start from here. The preprocessed data has been saved to disk."
   ]
  },
  {
   "cell_type": "code",
   "execution_count": 9,
   "metadata": {
    "collapsed": true
   },
   "outputs": [],
   "source": [
    "(source_int_text, target_int_text), (source_vocab_to_int, target_vocab_to_int), _ = helper.load_preprocess()"
   ]
  },
  {
   "cell_type": "markdown",
   "metadata": {},
   "source": [
    "## Builiding Neural Network"
   ]
  },
  {
   "cell_type": "markdown",
   "metadata": {},
   "source": [
    "### Input\n"
   ]
  },
  {
   "cell_type": "code",
   "execution_count": 10,
   "metadata": {
    "collapsed": true
   },
   "outputs": [],
   "source": [
    "def model_input():\n",
    "    input_=tf.placeholder(tf.int32,[None,None],name='input')\n",
    "    targets=tf.placeholder(tf.int32,[None,None])\n",
    "    learning_rate=tf.placeholder(tf.float32)\n",
    "    keep_prob=tf.placeholder(tf.float32,name='keep_prob')\n",
    "    \n",
    "    return input_,targets,learning_rate,keep_prob"
   ]
  },
  {
   "cell_type": "markdown",
   "metadata": {},
   "source": [
    "### Processing Decoding Input"
   ]
  },
  {
   "cell_type": "code",
   "execution_count": null,
   "metadata": {
    "collapsed": true
   },
   "outputs": [],
   "source": [
    "def process_decoding_input(target_data,target_vocab_to_int,batch_size):\n",
    "    "
   ]
  }
 ],
 "metadata": {
  "kernelspec": {
   "display_name": "Python 3",
   "language": "python",
   "name": "python3"
  },
  "language_info": {
   "codemirror_mode": {
    "name": "ipython",
    "version": 3
   },
   "file_extension": ".py",
   "mimetype": "text/x-python",
   "name": "python",
   "nbconvert_exporter": "python",
   "pygments_lexer": "ipython3",
   "version": "3.5.3"
  }
 },
 "nbformat": 4,
 "nbformat_minor": 2
}
